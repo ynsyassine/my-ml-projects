{
 "cells": [
  {
   "cell_type": "code",
   "execution_count": 42,
   "id": "d00c68cf",
   "metadata": {},
   "outputs": [],
   "source": [
    "import pandas as pd \n",
    "import matplotlib.pyplot as plt \n",
    "import numpy as np \n",
    "import random "
   ]
  },
  {
   "cell_type": "code",
   "execution_count": 43,
   "id": "759491ef",
   "metadata": {},
   "outputs": [
    {
     "name": "stdout",
     "output_type": "stream",
     "text": [
      "/home/yassine/coding-lane\r\n"
     ]
    }
   ],
   "source": [
    "!pwd"
   ]
  },
  {
   "cell_type": "code",
   "execution_count": 44,
   "id": "d173b51c",
   "metadata": {},
   "outputs": [],
   "source": [
    "# importing training and test dataset \n",
    "X_train = np.loadtxt(\"Neural-Network---MultiClass-Classifcation-with-Softmax-main/train_X.csv\" , delimiter=\",\").T\n",
    "X_test = np.loadtxt(\"Neural-Network---MultiClass-Classifcation-with-Softmax-main/test_X.csv\" , delimiter=\",\").T\n",
    "Y_train = np.loadtxt(\"Neural-Network---MultiClass-Classifcation-with-Softmax-main/train_label.csv\" , delimiter=\",\").T\n",
    "Y_test = np.loadtxt(\"Neural-Network---MultiClass-Classifcation-with-Softmax-main/test_label.csv\" , delimiter=\",\").T"
   ]
  },
  {
   "cell_type": "code",
   "execution_count": 45,
   "id": "e1331940",
   "metadata": {},
   "outputs": [
    {
     "data": {
      "text/plain": [
       "((784, 1000), (784, 350), (10, 1000), (10, 350))"
      ]
     },
     "execution_count": 45,
     "metadata": {},
     "output_type": "execute_result"
    }
   ],
   "source": [
    "# check the shape of traning sets and test sets \n",
    "X_train.shape , X_test.shape , Y_train.shape , Y_test.shape"
   ]
  },
  {
   "cell_type": "code",
   "execution_count": 46,
   "id": "a2de760d",
   "metadata": {},
   "outputs": [
    {
     "data": {
      "image/png": "[encoded data removed]",
      "text/plain": [
       "<Figure size 640x480 with 1 Axes>"
      ]
     },
     "metadata": {},
     "output_type": "display_data"
    }
   ],
   "source": [
    "# printing one random elements from our data set: \n",
    "X  = random.randrange(0,X_train.shape[1])\n",
    "# our images has a size of 28x28 pixels\n",
    "plt.imshow(X_train[:,X].reshape(28,28) , cmap = \"gray\")\n",
    "plt.show()"
   ]
  },
  {
   "cell_type": "code",
   "execution_count": 47,
   "id": "35bf0dd1",
   "metadata": {},
   "outputs": [],
   "source": [
    "# we will create our neurons will only one hidden layer"
   ]
  },
  {
   "cell_type": "markdown",
   "id": "62e07e0c",
   "metadata": {},
   "source": [
    "## initialize  weights with random values "
   ]
  },
  {
   "cell_type": "code",
   "execution_count": 95,
   "id": "9f86e505",
   "metadata": {},
   "outputs": [],
   "source": [
    "def params(n_x , n_h ,n_y):\n",
    "    W1 = np.random.randn(n_h,n_x)*0.01 \n",
    "    B1 =  np.zeros((n_h,1))\n",
    "    \n",
    "    W2 = np.random.randn(n_y , n_h)*0.01\n",
    "    B2 =  np.zeros((n_y, 1))\n",
    "    \n",
    "    weights = {\n",
    "        \"W1\":W1,\n",
    "        \"B1\":B1,\n",
    "        \"W2\":W2,\n",
    "        \"B2\":B2\n",
    "    }\n",
    "    \n",
    "    return weights \n",
    "    "
   ]
  },
  {
   "cell_type": "markdown",
   "id": "4715ad64",
   "metadata": {},
   "source": [
    "## Defining tha function that we will need : \n"
   ]
  },
  {
   "cell_type": "code",
   "execution_count": 96,
   "id": "c482fd68",
   "metadata": {},
   "outputs": [],
   "source": [
    "#defining the tanh function \n",
    "def tanh(x):\n",
    "    return np.tanh(x)\n",
    "\n",
    "#defining the relu function \n",
    "def relu(x):\n",
    "    return np.maximum(0,x)\n",
    "#defining the softmax function \n",
    "def softmax(x):\n",
    "    expX = np.exp(x)\n",
    "    return expX/np.sum(expX, axis = 0)\n",
    "\n"
   ]
  },
  {
   "cell_type": "markdown",
   "id": "bdf9aa6d",
   "metadata": {},
   "source": [
    "## Defining the derivitive of activations function : \n"
   ]
  },
  {
   "cell_type": "code",
   "execution_count": 97,
   "id": "f7556a6b",
   "metadata": {},
   "outputs": [],
   "source": [
    "def derivative_tanh(x):\n",
    "    return 1 - np.power(np.tanh(x),2)\n",
    "def derivative_relu(x):\n",
    "    return np.array(x > 0, dtype = np.float32)"
   ]
  },
  {
   "cell_type": "markdown",
   "id": "7961ab1a",
   "metadata": {},
   "source": [
    "# Forward propagation"
   ]
  },
  {
   "cell_type": "code",
   "execution_count": 98,
   "id": "ab85bae9",
   "metadata": {},
   "outputs": [],
   "source": [
    "def forward_propagation(X , weights):\n",
    "    W1 = weights[\"W1\"]\n",
    "    B1 = weights[\"B1\"]\n",
    "    W2 = weights[\"W2\"]\n",
    "    B2 = weights[\"B2\"]\n",
    "    \n",
    "    Z1  = np.dot(W1 , X) + B1 \n",
    "    A1 = tanh(Z1)\n",
    "    \n",
    "    Z2 = np.dot(W2 , A1) + B2  \n",
    "    A2 = softmax(Z2)\n",
    "    \n",
    "    params = {\n",
    "        \"Z1\":Z1,\n",
    "        \"A1\":A1,\n",
    "        \"Z2\":Z2,\n",
    "        \"A2\":A2\n",
    "        }\n",
    "    return params "
   ]
  },
  {
   "cell_type": "markdown",
   "id": "d5c1aad0",
   "metadata": {},
   "source": [
    "## Defining the Cost function "
   ]
  },
  {
   "cell_type": "code",
   "execution_count": 99,
   "id": "4f2a2f7e",
   "metadata": {},
   "outputs": [],
   "source": [
    "def cost_function(Y , A2 ):\n",
    "    m = Y.shape[1]\n",
    "    cost = -(1/m)*np.sum(Y*np.log(A2)) \n",
    "    \n",
    "    return cost "
   ]
  },
  {
   "cell_type": "markdown",
   "id": "f4fa290e",
   "metadata": {},
   "source": [
    "## BackPropagation : \n"
   ]
  },
  {
   "cell_type": "code",
   "execution_count": 112,
   "id": "e740c158",
   "metadata": {},
   "outputs": [],
   "source": [
    "def back_propagation(X , Y  , weights , params):\n",
    "    W1 = weights[\"W1\"]\n",
    "    B1 = weights[\"B1\"]\n",
    "    W2 = weights[\"W2\"]\n",
    "    B2 = weights[\"B2\"]\n",
    "    \n",
    "    Z1 = params[\"Z1\"]\n",
    "    Z2 = params[\"Z2\"]\n",
    "    A1 = params[\"A1\"]\n",
    "    A2 = params[\"A2\"]\n",
    "    \n",
    "    m = X.shape[1]\n",
    "    \n",
    "    dZ2 = A2 - Y \n",
    "    dW2 = (1/m)*np.dot(dZ2 , A1.T)\n",
    "    dB2  = (1/m)*np.sum(dZ2 , axis = 1  ,  keepdims=True)\n",
    "    \n",
    "    dZ1 = (1/m)*np.dot(W2.T , dZ2)*derivative_tanh(Z1)\n",
    "    dW1 = (1/m)*np.dot(dZ1, X.T)\n",
    "    dB1 = (1/m)*np.sum(dZ1, axis = 1, keepdims = True)\n",
    "    \n",
    "    gradients = {\n",
    "        \"DW1\":dW1 , \n",
    "        \"DW2\" : dW2, \n",
    "        \"DB1\":dB1,\n",
    "        \"DB2\":dB2\n",
    "    }\n",
    "    return gradients \n",
    "    \n",
    "    "
   ]
  },
  {
   "cell_type": "markdown",
   "id": "84266624",
   "metadata": {},
   "source": [
    "# Update parameters  :\n"
   ]
  },
  {
   "cell_type": "code",
   "execution_count": 113,
   "id": "f8456be1",
   "metadata": {},
   "outputs": [],
   "source": [
    "def update_parameters(weights  , gradients , learning_rate):\n",
    "    \n",
    "    W1 = weights[\"W1\"]\n",
    "    B1 = weights[\"B1\"]\n",
    "    W2 = weights[\"W2\"]\n",
    "    B2 = weights[\"B2\"]\n",
    "    \n",
    "    DW1 = gradients[\"DW1\"]\n",
    "    DW2 =  gradients[\"DW2\"]\n",
    "    DB1 =  gradients[\"DB1\"]\n",
    "    DB2 = gradients[\"DB2\"]\n",
    "    \n",
    "    W1 = W1 - learning_rate*DW1\n",
    "    B1 = B1 - learning_rate*DB1\n",
    "    W2 = W2 - learning_rate*DW2\n",
    "    B2 = B2 - learning_rate*DB2\n",
    "    \n",
    "    weights = {\n",
    "            \"W1\":W1,\n",
    "            \"B1\":B1,\n",
    "            \"W2\":W2,\n",
    "            \"B2\":B2\n",
    "    }\n",
    "        \n",
    "    return weights \n",
    "    \n",
    "    \n",
    "    \n",
    "    "
   ]
  },
  {
   "cell_type": "markdown",
   "id": "e27cb4b2",
   "metadata": {},
   "source": [
    "## THE COMPLETE MODEL : \n"
   ]
  },
  {
   "cell_type": "code",
   "execution_count": 120,
   "id": "05a38425",
   "metadata": {},
   "outputs": [],
   "source": [
    "def complete_model(X , Y , n_h , learning_rate , iterations) :\n",
    "    #initialize n_x and n_y \n",
    "    n_x = X.shape[0]\n",
    "    n_y = Y.shape[0]\n",
    "    #create a cost list \n",
    "    \n",
    "    cost_list = [] \n",
    "    #initialize the random weights \n",
    "    weights = params(n_x , n_h , n_y)\n",
    "    for i in range(iterations): \n",
    "        #foward propagation : \n",
    "        forward_cache = forward_propagation(X , weights)\n",
    "        # cumpute the  cost function \n",
    "        cost = cost_function(Y , forward_cache['A2'])\n",
    "        # backpropagation \n",
    "        gradients = back_propagation(X,Y,weights , forward_cache)\n",
    "        weights = update_parameters(weights , gradients , learning_rate)\n",
    "        cost_list.append(cost)\n",
    "        \n",
    "        if(i%(iterations/10) == 0):\n",
    "            print(\"Cost after\", i, \"iterations is :\", cost)\n",
    "            \n",
    "    return weights , cost_list\n",
    "        \n",
    "            \n",
    "        "
   ]
  },
  {
   "cell_type": "code",
   "execution_count": 122,
   "id": "e0277579",
   "metadata": {},
   "outputs": [
    {
     "name": "stdout",
     "output_type": "stream",
     "text": [
      "Cost after 0 iterations is : 2.3670110657801438\n",
      "Cost after 30 iterations is : 0.6692882168798469\n",
      "Cost after 60 iterations is : 0.4463004092425356\n",
      "Cost after 90 iterations is : 0.3434340538722921\n",
      "Cost after 120 iterations is : 0.27952954183431883\n",
      "Cost after 150 iterations is : 0.23453320526309046\n",
      "Cost after 180 iterations is : 0.20068496195651342\n",
      "Cost after 210 iterations is : 0.1742027940429809\n",
      "Cost after 240 iterations is : 0.15294673893487773\n",
      "Cost after 270 iterations is : 0.13557217821118536\n"
     ]
    }
   ],
   "source": [
    "iterations = 300\n",
    "n_h = 1000\n",
    "learning_rate = 0.02\n",
    "Parameters, Cost_list = complete_model(X_train, Y_train, n_h = n_h, learning_rate = learning_rate, iterations = iterations)"
   ]
  },
  {
   "cell_type": "code",
   "execution_count": 123,
   "id": "9b4b4b6a",
   "metadata": {},
   "outputs": [
    {
     "data": {
      "image/png": "[encoded data removed]",
      "text/plain": [
       "<Figure size 640x480 with 1 Axes>"
      ]
     },
     "metadata": {},
     "output_type": "display_data"
    }
   ],
   "source": [
    "t = np.arange(0, iterations)\n",
    "plt.plot(t, Cost_list)\n",
    "plt.show()"
   ]
  },
  {
   "cell_type": "code",
   "execution_count": 124,
   "id": "b6f74b39",
   "metadata": {},
   "outputs": [],
   "source": [
    "#defining the acuracy function: \n",
    "def accuracy(inp, labels, weights):\n",
    "    forward_cache = forward_propagation(inp, weights)\n",
    "    a_out = forward_cache['A2']   # containes propabilities with shape(10, 1)\n",
    "    \n",
    "    a_out = np.argmax(a_out, 0)  # 0 represents row wise \n",
    "    \n",
    "    labels = np.argmax(labels, 0)\n",
    "    \n",
    "    acc = np.mean(a_out == labels)*100\n",
    "    \n",
    "    return acc"
   ]
  },
  {
   "cell_type": "code",
   "execution_count": 127,
   "id": "98455ffc",
   "metadata": {},
   "outputs": [
    {
     "name": "stdout",
     "output_type": "stream",
     "text": [
      "Accuracy of Train Dataset 99.5 %\n",
      "Accuracy of Test Dataset 86.57 %\n"
     ]
    }
   ],
   "source": [
    "print(\"Accuracy of Train Dataset\", accuracy(X_train, Y_train, Parameters), \"%\")\n",
    "print(\"Accuracy of Test Dataset\", round(accuracy(X_test, Y_test, Parameters), 2), \"%\")"
   ]
  }
 ],
 "metadata": {
  "kernelspec": {
   "display_name": "Python 3 (ipykernel)",
   "language": "python",
   "name": "python3"
  },
  "language_info": {
   "codemirror_mode": {
    "name": "ipython",
    "version": 3
   },
   "file_extension": ".py",
   "mimetype": "text/x-python",
   "name": "python",
   "nbconvert_exporter": "python",
   "pygments_lexer": "ipython3",
   "version": "3.9.15"
  }
 },
 "nbformat": 4,
 "nbformat_minor": 5
}
